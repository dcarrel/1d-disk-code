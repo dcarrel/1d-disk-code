{
 "cells": [
  {
   "cell_type": "code",
   "outputs": [],
   "source": [
    "import numpy as np\n",
    "import matplotlib.pyplot as plt\n",
    "from grid import *\n",
    "from consts import *\n",
    "import time\n",
    "from params import *\n",
    "from load import *\n",
    "from celluloid import Camera\n",
    "from simulation import *\n",
    "from initial_conditions import *"
   ],
   "metadata": {
    "collapsed": false,
    "ExecuteTime": {
     "end_time": "2024-08-03T15:44:19.248503Z",
     "start_time": "2024-08-03T15:44:18.588827Z"
    }
   },
   "id": "89e3ed975dffd656",
   "execution_count": 1
  },
  {
   "cell_type": "code",
   "outputs": [
    {
     "name": "stdout",
     "output_type": "stream",
     "text": [
      "8.25063e+13\n"
     ]
    }
   ],
   "source": [
    "print(f\"{(1e6*KB/MP):5.5e}\")"
   ],
   "metadata": {
    "collapsed": false,
    "ExecuteTime": {
     "end_time": "2024-08-03T15:44:19.251311Z",
     "start_time": "2024-08-03T15:44:19.249496Z"
    }
   },
   "id": "18ef39384e64e6f6",
   "execution_count": 2
  },
  {
   "cell_type": "code",
   "outputs": [
    {
     "name": "stdout",
     "output_type": "stream",
     "text": [
      "pct: 0.29%\tdt=8.26e-09\tcfl\tloc=24.53\tsig 0.00e+00\tts 2.85e-07\t\t\t\t\t"
     ]
    },
    {
     "ename": "KeyboardInterrupt",
     "evalue": "",
     "output_type": "error",
     "traceback": [
      "\u001B[0;31m---------------------------------------------------------------------------\u001B[0m",
      "\u001B[0;31mKeyboardInterrupt\u001B[0m                         Traceback (most recent call last)",
      "Cell \u001B[0;32mIn[3], line 5\u001B[0m\n\u001B[1;32m      2\u001B[0m MSTAR\u001B[38;5;241m=\u001B[39m\u001B[38;5;241m10\u001B[39m\u001B[38;5;241m*\u001B[39mMSUN\n\u001B[1;32m      3\u001B[0m params \u001B[38;5;241m=\u001B[39m Params(SIM_DIR\u001B[38;5;241m=\u001B[39m\u001B[38;5;124m\"\u001B[39m\u001B[38;5;124mic\u001B[39m\u001B[38;5;124m\"\u001B[39m, TOL\u001B[38;5;241m=\u001B[39m\u001B[38;5;241m5e-3\u001B[39m, NR\u001B[38;5;241m=\u001B[39m\u001B[38;5;241m256\u001B[39m, MBH\u001B[38;5;241m=\u001B[39mMBH, EOS_TABLE\u001B[38;5;241m=\u001B[39m\u001B[38;5;124m\"\u001B[39m\u001B[38;5;124mEOS_HIGH_RES\u001B[39m\u001B[38;5;124m\"\u001B[39m, MSTAR\u001B[38;5;241m=\u001B[39mMSTAR, GEOMETRY\u001B[38;5;241m=\u001B[39m\u001B[38;5;124m\"\u001B[39m\u001B[38;5;124mLOGARITHMIC\u001B[39m\u001B[38;5;124m\"\u001B[39m, FSH\u001B[38;5;241m=\u001B[39m\u001B[38;5;241m0.5\u001B[39m, FWIND\u001B[38;5;241m=\u001B[39m\u001B[38;5;241m1\u001B[39m, TF\u001B[38;5;241m=\u001B[39m\u001B[38;5;241m1\u001B[39m\u001B[38;5;241m*\u001B[39mMONTH)\n\u001B[0;32m----> 5\u001B[0m ic \u001B[38;5;241m=\u001B[39m \u001B[43mInitialCondition\u001B[49m\u001B[43m(\u001B[49m\u001B[43mm0\u001B[49m\u001B[38;5;241;43m=\u001B[39;49m\u001B[38;5;241;43m0.01\u001B[39;49m\u001B[43m,\u001B[49m\u001B[43m \u001B[49m\u001B[43mtv\u001B[49m\u001B[38;5;241;43m=\u001B[39;49m\u001B[38;5;241;43m0.015\u001B[39;49m\u001B[43m,\u001B[49m\u001B[43m \u001B[49m\u001B[43mambf\u001B[49m\u001B[38;5;241;43m=\u001B[39;49m\u001B[38;5;241;43m1e-5\u001B[39;49m\u001B[43m,\u001B[49m\u001B[43m \u001B[49m\u001B[43mparams\u001B[49m\u001B[38;5;241;43m=\u001B[39;49m\u001B[43mparams\u001B[49m\u001B[43m)\u001B[49m\n\u001B[1;32m      6\u001B[0m ic\u001B[38;5;241m.\u001B[39mmakefig()\n",
      "File \u001B[0;32m~/Desktop/ftcs/initial_conditions.py:51\u001B[0m, in \u001B[0;36mInitialCondition.__init__\u001B[0;34m(self, m0, tv, ambf, params)\u001B[0m\n\u001B[1;32m     47\u001B[0m     os\u001B[38;5;241m.\u001B[39mmkdir(sim_dir)\n\u001B[1;32m     50\u001B[0m \u001B[38;5;28mself\u001B[39m\u001B[38;5;241m.\u001B[39msim \u001B[38;5;241m=\u001B[39m Simulation(\u001B[38;5;28mself\u001B[39m\u001B[38;5;241m.\u001B[39msigma0, \u001B[38;5;28mself\u001B[39m\u001B[38;5;241m.\u001B[39mentropy0, params\u001B[38;5;241m=\u001B[39mParams(load\u001B[38;5;241m=\u001B[39mic_pdict))\n\u001B[0;32m---> 51\u001B[0m \u001B[38;5;28;43mself\u001B[39;49m\u001B[38;5;241;43m.\u001B[39;49m\u001B[43msim\u001B[49m\u001B[38;5;241;43m.\u001B[39;49m\u001B[43mevolve\u001B[49m\u001B[43m(\u001B[49m\u001B[43m)\u001B[49m\n\u001B[1;32m     52\u001B[0m \u001B[38;5;28mself\u001B[39m\u001B[38;5;241m.\u001B[39msigma0 \u001B[38;5;241m=\u001B[39m \u001B[38;5;28mself\u001B[39m\u001B[38;5;241m.\u001B[39msim\u001B[38;5;241m.\u001B[39mvar0\u001B[38;5;241m.\u001B[39msigma\n\u001B[1;32m     53\u001B[0m \u001B[38;5;28mself\u001B[39m\u001B[38;5;241m.\u001B[39mentropy0 \u001B[38;5;241m=\u001B[39m \u001B[38;5;28mself\u001B[39m\u001B[38;5;241m.\u001B[39msim\u001B[38;5;241m.\u001B[39mvar0\u001B[38;5;241m.\u001B[39ms\n",
      "File \u001B[0;32m~/Desktop/ftcs/simulation.py:143\u001B[0m, in \u001B[0;36mSimulation.evolve\u001B[0;34m(self)\u001B[0m\n\u001B[1;32m    139\u001B[0m \u001B[38;5;28;01mwhile\u001B[39;00m \u001B[38;5;28;01mTrue\u001B[39;00m:\n\u001B[1;32m    141\u001B[0m     old_sigma, old_entropy \u001B[38;5;241m=\u001B[39m [], []\n\u001B[0;32m--> 143\u001B[0m     dt, st, loc, sig_err, ts_err \u001B[38;5;241m=\u001B[39m \u001B[38;5;28;43mself\u001B[39;49m\u001B[38;5;241;43m.\u001B[39;49m\u001B[43mtake_step\u001B[49m\u001B[43m(\u001B[49m\u001B[43m)\u001B[49m\n\u001B[1;32m    145\u001B[0m     new_sigma, new_entropy \u001B[38;5;241m=\u001B[39m [], []\n\u001B[1;32m    148\u001B[0m     cond \u001B[38;5;241m=\u001B[39m \u001B[38;5;28mself\u001B[39m\u001B[38;5;241m.\u001B[39mtsave \u001B[38;5;241m-\u001B[39m \u001B[38;5;28mself\u001B[39m\u001B[38;5;241m.\u001B[39mt \u001B[38;5;241m<\u001B[39m\u001B[38;5;241m=\u001B[39m \u001B[38;5;241m0\u001B[39m \u001B[38;5;66;03m## checks if simulation needs to save\u001B[39;00m\n",
      "File \u001B[0;32m~/Desktop/ftcs/simulation.py:101\u001B[0m, in \u001B[0;36mSimulation.take_step\u001B[0;34m(self)\u001B[0m\n\u001B[1;32m     99\u001B[0m \u001B[38;5;28;01mif\u001B[39;00m \u001B[38;5;28mself\u001B[39m\u001B[38;5;241m.\u001B[39mparams\u001B[38;5;241m.\u001B[39mEVOLVE_ENTROPY: ts_half \u001B[38;5;241m=\u001B[39m shasta_step(ts, vr, \u001B[38;5;28mself\u001B[39m\u001B[38;5;241m.\u001B[39mdt\u001B[38;5;241m/\u001B[39m\u001B[38;5;241m2\u001B[39m, interp\u001B[38;5;241m=\u001B[39m\u001B[38;5;28mself\u001B[39m\u001B[38;5;241m.\u001B[39mparams\u001B[38;5;241m.\u001B[39mINTERP)\n\u001B[1;32m    100\u001B[0m \u001B[38;5;28;01mif\u001B[39;00m \u001B[38;5;28mself\u001B[39m\u001B[38;5;241m.\u001B[39mparams\u001B[38;5;241m.\u001B[39mEVOLVE_SIGMA: sigma_half \u001B[38;5;241m=\u001B[39m shasta_step(sigma, vr, \u001B[38;5;28mself\u001B[39m\u001B[38;5;241m.\u001B[39mdt\u001B[38;5;241m/\u001B[39m\u001B[38;5;241m2\u001B[39m, interp\u001B[38;5;241m=\u001B[39m\u001B[38;5;28mself\u001B[39m\u001B[38;5;241m.\u001B[39mparams\u001B[38;5;241m.\u001B[39mINTERP)\n\u001B[0;32m--> 101\u001B[0m \u001B[38;5;28;43mself\u001B[39;49m\u001B[38;5;241;43m.\u001B[39;49m\u001B[43mvhalf\u001B[49m\u001B[38;5;241;43m.\u001B[39;49m\u001B[43mupdate_variables\u001B[49m\u001B[43m(\u001B[49m\u001B[43msigma_half\u001B[49m\u001B[43m,\u001B[49m\u001B[43m \u001B[49m\u001B[43mts_half\u001B[49m\u001B[43m,\u001B[49m\u001B[43m \u001B[49m\u001B[43mt\u001B[49m\u001B[38;5;241;43m=\u001B[39;49m\u001B[38;5;28;43mself\u001B[39;49m\u001B[38;5;241;43m.\u001B[39;49m\u001B[43mt\u001B[49m\u001B[38;5;241;43m+\u001B[39;49m\u001B[38;5;28;43mself\u001B[39;49m\u001B[38;5;241;43m.\u001B[39;49m\u001B[43mdt\u001B[49m\u001B[38;5;241;43m/\u001B[39;49m\u001B[38;5;241;43m2\u001B[39;49m\u001B[43m)\u001B[49m\n\u001B[1;32m    103\u001B[0m vf_half \u001B[38;5;241m=\u001B[39m np\u001B[38;5;241m.\u001B[39mcopy(\u001B[38;5;28mself\u001B[39m\u001B[38;5;241m.\u001B[39mvhalf\u001B[38;5;241m.\u001B[39mvr)\n\u001B[1;32m    104\u001B[0m sigma\u001B[38;5;241m.\u001B[39mD \u001B[38;5;241m=\u001B[39m \u001B[38;5;28mself\u001B[39m\u001B[38;5;241m.\u001B[39mvhalf\u001B[38;5;241m.\u001B[39msigma_dot\n",
      "File \u001B[0;32m~/Desktop/ftcs/variable.py:39\u001B[0m, in \u001B[0;36mFullVariable.update_variables\u001B[0;34m(self, sigma, ts, t)\u001B[0m\n\u001B[1;32m     37\u001B[0m     \u001B[38;5;28mself\u001B[39m\u001B[38;5;241m.\u001B[39mnu \u001B[38;5;241m=\u001B[39m \u001B[38;5;28mself\u001B[39m\u001B[38;5;241m.\u001B[39mparams\u001B[38;5;241m.\u001B[39mCONST_NU\u001B[38;5;241m*\u001B[39m\u001B[38;5;28mself\u001B[39m\u001B[38;5;241m.\u001B[39mgrid\u001B[38;5;241m.\u001B[39mcell_ones()\n\u001B[1;32m     38\u001B[0m \u001B[38;5;28;01melse\u001B[39;00m:\n\u001B[0;32m---> 39\u001B[0m     \u001B[38;5;28mself\u001B[39m\u001B[38;5;241m.\u001B[39mnu \u001B[38;5;241m=\u001B[39m \u001B[38;5;28mself\u001B[39m\u001B[38;5;241m.\u001B[39mparams\u001B[38;5;241m.\u001B[39mALPHA\u001B[38;5;241m*\u001B[39m\u001B[38;5;28mself\u001B[39m\u001B[38;5;241m.\u001B[39mH\u001B[38;5;241m*\u001B[39m\u001B[38;5;241m*\u001B[39m\u001B[38;5;241m2\u001B[39m\u001B[38;5;241m*\u001B[39m\u001B[38;5;28;43mself\u001B[39;49m\u001B[38;5;241;43m.\u001B[39;49m\u001B[43mgrid\u001B[49m\u001B[38;5;241;43m.\u001B[39;49m\u001B[43momgk\u001B[49m\u001B[43m(\u001B[49m\u001B[38;5;28;43mself\u001B[39;49m\u001B[38;5;241;43m.\u001B[39;49m\u001B[43mh\u001B[49m\u001B[43m)\u001B[49m\n\u001B[1;32m     41\u001B[0m \u001B[38;5;28mself\u001B[39m\u001B[38;5;241m.\u001B[39msigv \u001B[38;5;241m=\u001B[39m sig((\u001B[38;5;28mself\u001B[39m\u001B[38;5;241m.\u001B[39mbe\u001B[38;5;241m-\u001B[39m\u001B[38;5;28mself\u001B[39m\u001B[38;5;241m.\u001B[39mparams\u001B[38;5;241m.\u001B[39mBE_CRIT)\u001B[38;5;241m/\u001B[39m\u001B[38;5;28mself\u001B[39m\u001B[38;5;241m.\u001B[39mparams\u001B[38;5;241m.\u001B[39mDBE)\n\u001B[1;32m     42\u001B[0m \u001B[38;5;66;03m## calculates velocities at inter_faces\u001B[39;00m\n",
      "File \u001B[0;32m~/Desktop/ftcs/grid.py:44\u001B[0m, in \u001B[0;36mGrid.omgk\u001B[0;34m(self, h)\u001B[0m\n\u001B[1;32m     41\u001B[0m     \u001B[38;5;28mself\u001B[39m\u001B[38;5;241m.\u001B[39mr_face \u001B[38;5;241m=\u001B[39m \u001B[38;5;28mself\u001B[39m\u001B[38;5;241m.\u001B[39mr_face[\u001B[38;5;241m1\u001B[39m:\u001B[38;5;241m-\u001B[39m\u001B[38;5;241m1\u001B[39m]\n\u001B[1;32m     42\u001B[0m     \u001B[38;5;28mself\u001B[39m\u001B[38;5;241m.\u001B[39mface_area \u001B[38;5;241m=\u001B[39m np\u001B[38;5;241m.\u001B[39mpi\u001B[38;5;241m*\u001B[39m\u001B[38;5;28mself\u001B[39m\u001B[38;5;241m.\u001B[39mr_face\n\u001B[0;32m---> 44\u001B[0m \u001B[38;5;28;01mdef\u001B[39;00m \u001B[38;5;21momgk\u001B[39m(\u001B[38;5;28mself\u001B[39m, h\u001B[38;5;241m=\u001B[39m\u001B[38;5;28;01mNone\u001B[39;00m):\n\u001B[1;32m     45\u001B[0m     \u001B[38;5;28;01mif\u001B[39;00m \u001B[38;5;28mself\u001B[39m\u001B[38;5;241m.\u001B[39mparams\u001B[38;5;241m.\u001B[39mPH_EFFECT:\n\u001B[1;32m     46\u001B[0m         h \u001B[38;5;241m=\u001B[39m np\u001B[38;5;241m.\u001B[39mwhere(h\u001B[38;5;241m>\u001B[39m\u001B[38;5;28mself\u001B[39m\u001B[38;5;241m.\u001B[39mhmax, \u001B[38;5;28mself\u001B[39m\u001B[38;5;241m.\u001B[39mhmax, h)\n",
      "\u001B[0;31mKeyboardInterrupt\u001B[0m: "
     ]
    }
   ],
   "source": [
    "MBH=1e6*MSUN\n",
    "MSTAR=10*MSUN\n",
    "params = Params(SIM_DIR=\"ic\", TOL=5e-3, NR=256, MBH=MBH, EOS_TABLE=\"EOS_HIGH_RES\", MSTAR=MSTAR, GEOMETRY=\"LOGARITHMIC\", FSH=0.5, FWIND=1, TF=1*MONTH)\n",
    "\n",
    "ic = InitialCondition(m0=0.01, tv=0.015, ambf=1e-5, params=params)\n",
    "ic.makefig()"
   ],
   "metadata": {
    "collapsed": false,
    "ExecuteTime": {
     "end_time": "2024-08-03T15:46:18.818060Z",
     "start_time": "2024-08-03T15:44:20.081898Z"
    }
   },
   "id": "2ef844e139eb9351",
   "execution_count": 3
  },
  {
   "cell_type": "code",
   "outputs": [],
   "source": [],
   "metadata": {
    "collapsed": false
   },
   "id": "7b4daf28470260dd"
  }
 ],
 "metadata": {
  "kernelspec": {
   "display_name": "Python 3",
   "language": "python",
   "name": "python3"
  },
  "language_info": {
   "codemirror_mode": {
    "name": "ipython",
    "version": 2
   },
   "file_extension": ".py",
   "mimetype": "text/x-python",
   "name": "python",
   "nbconvert_exporter": "python",
   "pygments_lexer": "ipython2",
   "version": "2.7.6"
  }
 },
 "nbformat": 4,
 "nbformat_minor": 5
}
